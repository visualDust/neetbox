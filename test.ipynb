{
 "cells": [
  {
   "cell_type": "code",
   "execution_count": 6,
   "metadata": {},
   "outputs": [
    {
     "name": "stdout",
     "output_type": "stream",
     "text": [
      "\u001b[31msss\u001b[39m\n",
      " Volume in drive E is Work\n",
      " Volume Serial Number is BC2B-7DA2\n",
      "\n",
      " Directory of e:\\workspace\\Python\\neetbox\n",
      "\n",
      "03/06/2023  05:07 PM    <DIR>          .\n",
      "03/05/2023  08:41 PM    <DIR>          ..\n",
      "03/05/2023  08:41 PM    <DIR>          .github\n",
      "03/05/2023  08:47 PM                87 .gitignore\n",
      "03/05/2023  08:47 PM             3,648 example.ipynb\n",
      "03/05/2023  08:47 PM                64 for_debug.txt\n",
      "03/05/2023  08:46 PM    <DIR>          logdir\n",
      "03/06/2023  04:46 PM    <DIR>          neetbox\n",
      "03/05/2023  08:41 PM             1,435 pyproject.toml\n",
      "03/05/2023  08:41 PM                55 README.md\n",
      "03/06/2023  05:07 PM                 0 test.ipynb\n",
      "               6 File(s)          5,289 bytes\n",
      "               5 Dir(s)  24,047,669,248 bytes free\n"
     ]
    }
   ],
   "source": [
    "from colorama import just_fix_windows_console, Fore\n",
    "import os, warnings, platform\n",
    "def colored(text, color):\n",
    "    if \"ANSI_COLORS_DISABLED\" in os.environ or \"NO_COLOR\" in os.environ:\n",
    "        warnings.warn(\"Current environment not supported colored text, please notice that! \")\n",
    "    if platform.system().lower() == \"windows\":\n",
    "        just_fix_windows_console()\n",
    "\n",
    "    if hasattr(Fore, color.upper()):\n",
    "        text = getattr(Fore, color.upper()) + text + Fore.RESET\n",
    "    else:\n",
    "        raise ValueError(\"Wrong color was inputed in colored func.\")\n",
    "    return text\n",
    "\n",
    "print(colored(\"sss\", \"red\"))\n",
    "!dir"
   ]
  }
 ],
 "metadata": {
  "kernelspec": {
   "display_name": "base",
   "language": "python",
   "name": "python3"
  },
  "language_info": {
   "codemirror_mode": {
    "name": "ipython",
    "version": 3
   },
   "file_extension": ".py",
   "mimetype": "text/x-python",
   "name": "python",
   "nbconvert_exporter": "python",
   "pygments_lexer": "ipython3",
   "version": "3.9.13"
  },
  "orig_nbformat": 4
 },
 "nbformat": 4,
 "nbformat_minor": 2
}
