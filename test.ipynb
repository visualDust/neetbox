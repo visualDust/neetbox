{
 "cells": [
  {
   "cell_type": "code",
   "execution_count": 1,
   "metadata": {},
   "outputs": [],
   "source": [
    "from neetbox.torch.arch import cnn\n",
    "from neetbox.torch.profile import profile\n",
    "import torch\n",
    "import torch.nn as nn\n",
    "import torch.nn.functional as F"
   ]
  },
  {
   "cell_type": "code",
   "execution_count": 2,
   "metadata": {},
   "outputs": [
    {
     "data": {
      "text/plain": [
       "Sequential(\n",
       "  (0): ConvNxN_Bn(\n",
       "    (conv1): Conv2d(64, 128, kernel_size=(3, 3), stride=(2, 2), padding=(2, 2), dilation=(2, 2))\n",
       "    (bn1): BatchNorm2d(128, eps=1e-05, momentum=0.1, affine=True, track_running_stats=True)\n",
       "    (relu_inplace): ReLU(inplace=True)\n",
       "    (conv2): Conv2d(128, 128, kernel_size=(3, 3), stride=(1, 1), padding=(2, 2), dilation=(2, 2))\n",
       "    (bn2): BatchNorm2d(128, eps=1e-05, momentum=0.1, affine=True, track_running_stats=True)\n",
       "    (residual): Sequential(\n",
       "      (0): Conv2d(64, 128, kernel_size=(1, 1), stride=(2, 2), dilation=(2, 2))\n",
       "      (1): BatchNorm2d(128, eps=1e-05, momentum=0.1, affine=True, track_running_stats=True)\n",
       "    )\n",
       "  )\n",
       ")"
      ]
     },
     "execution_count": 2,
     "metadata": {},
     "output_type": "execute_result"
    }
   ],
   "source": [
    "arch1 = nn.Sequential(cnn.ConvNxN_Bn(\n",
    "    inplanes=64, outplanes=128, kernel_size=3, stride=2, residual=True, dilation=2\n",
    ")).cuda()\n",
    "arch1\n"
   ]
  },
  {
   "cell_type": "code",
   "execution_count": 3,
   "metadata": {},
   "outputs": [
    {
     "name": "stdout",
     "output_type": "stream",
     "text": [
      "2023-03-15-15:31:08 > \u001b[34mNEETBOX > \u001b[39mrunning speedtest...\n",
      "2023-03-15-15:31:08 > \u001b[34mNEETBOX > \u001b[39mstart warm up\n"
     ]
    },
    {
     "name": "stderr",
     "output_type": "stream",
     "text": [
      "100%|██████████| 10/10 [00:03<00:00,  2.70it/s]\n"
     ]
    },
    {
     "name": "stdout",
     "output_type": "stream",
     "text": [
      "2023-03-15-15:31:12 > \u001b[34mNEETBOX > \u001b[39mwarm up done\n"
     ]
    },
    {
     "name": "stderr",
     "output_type": "stream",
     "text": [
      "100%|██████████| 102/102 [00:00<00:00, 134.23it/s]\n"
     ]
    },
    {
     "name": "stdout",
     "output_type": "stream",
     "text": [
      "2023-03-15-15:31:13 > \u001b[34mNEETBOX > \u001b[39maverage 0.00728715181350708s per run with input size (1, 64, 1280, 720), out put size torch.Size([1, 128, 640, 360])\n",
      "2023-03-15-15:31:13 > \u001b[34mNEETBOX > \u001b[39mmin inference time: 0.0s, Max inference time: 0.030284881591796875s\n",
      "2023-03-15-15:31:13 > \u001b[34mNEETBOX > \u001b[39mThat is 137.22782584911334 frames per second\n",
      "2023-03-15-15:31:13 > \u001b[34mNEETBOX > \u001b[39m====================================================\n",
      "2023-03-15-15:31:13 > \u001b[34mNEETBOX > \u001b[39mrunning CUDA side synchronous speedtest...\n"
     ]
    },
    {
     "name": "stderr",
     "output_type": "stream",
     "text": [
      "100%|██████████| 102/102 [00:02<00:00, 38.81it/s]\n"
     ]
    },
    {
     "name": "stdout",
     "output_type": "stream",
     "text": [
      "2023-03-15-15:31:15 > \u001b[34mNEETBOX > \u001b[39maverage 0.015988802537322044s per run with input size (1, 64, 1280, 720), out put size torch.Size([1, 128, 640, 360])\n",
      "2023-03-15-15:31:15 > \u001b[34mNEETBOX > \u001b[39mmin inference time: 0.014546943828463554s, max inference time: 0.018075551837682724s\n",
      "2023-03-15-15:31:15 > \u001b[34mNEETBOX > \u001b[39mThat is 62.54377365112305 frames per second\n",
      "[\u001b[33mWARNING\u001b[39m] 2023-03-15-15:31:15 > \u001b[34mNEETBOX > \u001b[39mSeems your model has an imbalanced performance peek on cuda side test and python side test. Consider raising speedtest loop times (currently 100 +2) to have a stable result.\n",
      "[\u001b[36mDEBUG\u001b[39m] 2023-03-15-15:31:15 > \u001b[34mNEETBOX > \u001b[39mNote that the CUDA side synchronous speedtest is more reliable since you are using a GPU.\n",
      "2023-03-15-15:31:15 > \u001b[34mNEETBOX > \u001b[39m====================================================\n",
      "2023-03-15-15:31:15 > \u001b[34mNEETBOX > \u001b[39mmodel profiling...\n",
      "[INFO] Register count_convNd() for <class 'torch.nn.modules.conv.Conv2d'>.\n",
      "[INFO] Register count_normalization() for <class 'torch.nn.modules.batchnorm.BatchNorm2d'>.\n",
      "[INFO] Register zero_ops() for <class 'torch.nn.modules.activation.ReLU'>.\n",
      "[INFO] Register zero_ops() for <class 'torch.nn.modules.container.Sequential'>.\n",
      "2023-03-15-15:31:16 > \u001b[34mNEETBOX > \u001b[39mModel FLOPs = 53.2021248, params = 0.230528\n"
     ]
    }
   ],
   "source": [
    "profile(arch1,input_shape=(1,64,1280,720),speedtest=100)\n"
   ]
  },
  {
   "cell_type": "code",
   "execution_count": null,
   "metadata": {},
   "outputs": [],
   "source": []
  }
 ],
 "metadata": {
  "kernelspec": {
   "display_name": "pt2",
   "language": "python",
   "name": "python3"
  },
  "language_info": {
   "codemirror_mode": {
    "name": "ipython",
    "version": 3
   },
   "file_extension": ".py",
   "mimetype": "text/x-python",
   "name": "python",
   "nbconvert_exporter": "python",
   "pygments_lexer": "ipython3",
   "version": "3.8.16"
  },
  "orig_nbformat": 4
 },
 "nbformat": 4,
 "nbformat_minor": 2
}
